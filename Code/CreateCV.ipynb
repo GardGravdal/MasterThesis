{
 "cells": [
  {
   "cell_type": "markdown",
   "id": "0da46696",
   "metadata": {},
   "source": [
    "# CreateCV"
   ]
  },
  {
   "cell_type": "code",
   "execution_count": 3,
   "id": "808bd5f8",
   "metadata": {},
   "outputs": [],
   "source": [
    "import pandas as pd\n",
    "import numpy as np\n",
    "from sklearn.model_selection import train_test_split\n",
    "from sklearn.model_selection import KFold"
   ]
  },
  {
   "cell_type": "code",
   "execution_count": 14,
   "id": "a3b302c8",
   "metadata": {},
   "outputs": [],
   "source": [
    "data = pd.read_feather(\"C:/Users/gard_/Documents/MasterThesis/Code/Data/Processed/tarsusBV_70k.feather\")"
   ]
  },
  {
   "cell_type": "code",
   "execution_count": 15,
   "id": "7af9c969",
   "metadata": {},
   "outputs": [
    {
     "name": "stdout",
     "output_type": "stream",
     "text": [
      "Check the dim of ringnrs: \n",
      " (3467,) \n",
      "\n",
      "Any duplicated ringnrs?\n"
     ]
    },
    {
     "data": {
      "text/plain": [
       "np.False_"
      ]
     },
     "execution_count": 15,
     "metadata": {},
     "output_type": "execute_result"
    }
   ],
   "source": [
    "ringnrs = data[\"ringnr\"]\n",
    "print(\"Check the dim of ringnrs: \\n\",ringnrs.shape, \"\\n\")\n",
    "\n",
    "# Are there any duplicated ringnrs?\n",
    "print(\"Any duplicated ringnrs?\")\n",
    "ringnrs.duplicated().any()"
   ]
  },
  {
   "cell_type": "code",
   "execution_count": 16,
   "id": "5603c74b",
   "metadata": {},
   "outputs": [],
   "source": [
    "# Initialize KFold with the desired number of splits (10 folds)\n",
    "kf = KFold(n_splits = 10, shuffle = True, random_state = 42)\n",
    "\n",
    "# Create an empty list to hold the different folds with actual data values\n",
    "folds = []\n",
    "\n",
    "# Loop through the kf.split method which yields train and test indices\n",
    "for fold_index, (train_indices, test_indices) in enumerate(kf.split(ringnrs)):\n",
    "    #print(f\"Fold {fold_index+1}:\")\n",
    "    \n",
    "    # Store the actual training and validation data values in each fold\n",
    "    train_data = ringnrs.iloc[train_indices]\n",
    "    test_data = ringnrs.iloc[test_indices]\n",
    "    \n",
    "    # Append the fold containing training and testing data\n",
    "    folds.append({\n",
    "        'train': train_data,\n",
    "        'test': test_data\n",
    "    })\n",
    "\n",
    "# Convert the list of folds into a numpy array for convenience\n",
    "folds_array = np.array(folds, dtype=object)\n",
    "\n",
    "# Print the folds array to inspect the data stored\n",
    "#print(folds_array)"
   ]
  },
  {
   "cell_type": "code",
   "execution_count": 17,
   "id": "5657774c",
   "metadata": {},
   "outputs": [],
   "source": [
    "# Prepare the data to be saved in a structured format (list of dictionaries)\n",
    "csv_data = []\n",
    "for i, fold in enumerate(folds_array):\n",
    "    for ringnr in fold['train']:\n",
    "        csv_data.append({'Fold': i + 1, 'Set': 'train', 'ringnr': ringnr})\n",
    "    for ringnr in fold['test']:\n",
    "        csv_data.append({'Fold': i + 1, 'Set': 'test', 'ringnr': ringnr})\n",
    "\n",
    "# Convert to DataFrame and save as CSV\n",
    "df = pd.DataFrame(csv_data)\n",
    "# df.to_csv('cv_folds.csv', index=False)\n",
    "#print(df)"
   ]
  },
  {
   "cell_type": "code",
   "execution_count": 18,
   "id": "c84d7821",
   "metadata": {},
   "outputs": [],
   "source": [
    "# Save CSV-file\n",
    "# Train/val\n",
    "save_path = \"C:/Users/gard_/Documents/MasterThesis/Code/Data/CVfolds/\"\n",
    "df.to_csv(save_path + 'cv_folds_tarsus_70k.csv', index=False)\n",
    "\n",
    "# Test\n",
    "#ring_test.to_csv('ringnr_test.csv', index = False)    \n"
   ]
  }
 ],
 "metadata": {
  "kernelspec": {
   "display_name": "Python 3",
   "language": "python",
   "name": "python3"
  },
  "language_info": {
   "codemirror_mode": {
    "name": "ipython",
    "version": 3
   },
   "file_extension": ".py",
   "mimetype": "text/x-python",
   "name": "python",
   "nbconvert_exporter": "python",
   "pygments_lexer": "ipython3",
   "version": "3.13.3"
  }
 },
 "nbformat": 4,
 "nbformat_minor": 5
}
