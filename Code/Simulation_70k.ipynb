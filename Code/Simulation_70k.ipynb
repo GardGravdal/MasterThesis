{
 "cells": [
  {
   "cell_type": "markdown",
   "metadata": {},
   "source": [
    "## Simulation 70k\n",
    "\n",
    "This file will generate simulations of different types of architecture for the $70$ k dataset. The various architectures are derived in handwritten notes. The different phenotypes that are simulated will be tested on $4$ different models:\n",
    "\n",
    "**XGBoost model**\n",
    "\n",
    "**Ridge regression**\n",
    "\n",
    "**Ridge regression with PC's as input**\n",
    "\n",
    "**Bayesian animal model with INLA**\n",
    "\n",
    "The architecture has form:\n",
    "\n",
    "$$p(u_{j}|\\sigma_{G}^{2}) = 0 \\cdot \\pi_{0} + \\sum_{i=1}^{3}\\pi_{i} \\cdot N(0, \\sigma_{ui}^{2}\\sigma_{G}^{2})$$\n",
    "\n",
    "Naming convention for the phenotype file will be: **SimPhenoArch_i**, where $i$ denotes the type of architecture used from the notes.\n"
   ]
  },
  {
   "cell_type": "code",
   "execution_count": 1,
   "metadata": {},
   "outputs": [],
   "source": [
    "# Import libraries\n",
    "import pandas as pd\n",
    "import numpy as np\n",
    "import matplotlib.pyplot as plt\n",
    "import pyarrow.feather as feather"
   ]
  },
  {
   "cell_type": "markdown",
   "metadata": {},
   "source": [
    "Load SNP data and do some data manipulation."
   ]
  },
  {
   "cell_type": "code",
   "execution_count": 2,
   "metadata": {},
   "outputs": [
    {
     "name": "stdout",
     "output_type": "stream",
     "text": [
      "True\n",
      "shape:  (12059, 65239) \n",
      "\n",
      "shape:  (11997, 65239) \n",
      "\n",
      "False\n"
     ]
    }
   ],
   "source": [
    "SNP_matrix = pd.read_feather(\"C:/Users/gard_/Documents/MasterThesis/Code/Data/SNP_70k.feather\")\n",
    "\n",
    "# Shows duplicated ringnr's:\n",
    "print(SNP_matrix[\"ringnr\"].duplicated().any())\n",
    "\n",
    "print(\"shape: \", SNP_matrix.shape, \"\\n\")\n",
    "\n",
    "# Remove duplicated ringnr's by keeping first instance:\n",
    "SNP_matrix = SNP_matrix.drop_duplicates(subset=\"ringnr\", keep=\"first\")\n",
    "\n",
    "# Reset the index to remove any gaps (i.e., ensure sequential index)\n",
    "SNP_matrix = SNP_matrix.reset_index(drop=True)\n",
    "\n",
    "print(\"shape: \", SNP_matrix.shape, \"\\n\")\n",
    "\n",
    "print(SNP_matrix[\"ringnr\"].duplicated().any())\n",
    "\n",
    "# M_tilde contains only the SNPs\n",
    "M_tilde = SNP_matrix.drop(columns=[\"ringnr\"])\n",
    "\n",
    "# Replace NA values with 0\n",
    "M_tilde.fillna(0, inplace=True)\n",
    "\n",
    "#Mean-center M\n",
    "M_tilde = M_tilde - M_tilde.mean(axis=0)"
   ]
  },
  {
   "cell_type": "markdown",
   "metadata": {},
   "source": [
    "Function for generating simulated effect sizes."
   ]
  },
  {
   "cell_type": "code",
   "execution_count": null,
   "metadata": {},
   "outputs": [],
   "source": [
    "def get_u(p, arch):\n",
    "    \"\"\"\n",
    "    Generate effect sizes u. 'p' is number of columns (SNPs).\n",
    "    Distributions given in handwritten notes.\n",
    "    Note that pi_1 and pi_2 are always 0 (see handwritten notes, architectures).\n",
    "    Returns (p x 1) vector of effect sizes u.\n",
    "    \"\"\"\n",
    "    pi = np.random.rand(p)\n",
    "    u = np.zeros(p)\n",
    "\n",
    "    # vector of architectures for pi_0 and pi_3\n",
    "    arch_vec = np.array([0.99, 0.95, 0.9, 0.8, 0.6, 0.4, 0.2, 0.1, 0.05, 0.01])\n",
    "    \n",
    "    for i in range(p):\n",
    "        if pi[i] < arch_vec[arch]:\n",
    "            # pi_3:\n",
    "            u[i] = np.random.normal(0, np.sqrt(0.33 * 10**(-2)))\n",
    "    \n",
    "    return u"
   ]
  },
  {
   "cell_type": "code",
   "execution_count": 52,
   "metadata": {},
   "outputs": [],
   "source": [
    "# Get the number of columns (p)\n",
    "p = M_tilde.shape[1]\n",
    "\n",
    "# Change based on which architecture is wanted\n",
    "arch = 10\n",
    "\n",
    "# Generate u values\n",
    "u_sim = get_u(p = p, arch = arch-1)"
   ]
  },
  {
   "cell_type": "markdown",
   "metadata": {},
   "source": [
    "Generate breeding values $a$."
   ]
  },
  {
   "cell_type": "code",
   "execution_count": 48,
   "metadata": {},
   "outputs": [],
   "source": [
    "# Compute a as matrix multiplication\n",
    "a = np.dot(M_tilde.values, u_sim)\n",
    "\n",
    "# Scale a to achieve heritability of 0.33\n",
    "a = a * np.sqrt(0.33 / np.var(a))"
   ]
  },
  {
   "cell_type": "markdown",
   "metadata": {},
   "source": [
    "Generate phenotype $y$."
   ]
  },
  {
   "cell_type": "code",
   "execution_count": 49,
   "metadata": {},
   "outputs": [
    {
     "name": "stdout",
     "output_type": "stream",
     "text": [
      "Heritability: 0.33\n"
     ]
    }
   ],
   "source": [
    "# Generate epsilon (error term) with variance 0.67\n",
    "epsilon = np.random.normal(0, np.sqrt(0.67), size=a.shape)\n",
    "\n",
    "# Simulated phenotype y\n",
    "y = a + epsilon\n",
    "\n",
    "# Heritability check (approximately 0.33)\n",
    "heritability = np.var(a) / np.var(y)\n",
    "print(f\"Heritability: {heritability:.2f}\")"
   ]
  },
  {
   "cell_type": "markdown",
   "metadata": {},
   "source": [
    "Plotting to inspect."
   ]
  },
  {
   "cell_type": "code",
   "execution_count": 45,
   "metadata": {},
   "outputs": [],
   "source": [
    "#plt.plot(y)"
   ]
  },
  {
   "cell_type": "markdown",
   "metadata": {},
   "source": [
    "Storing phenotype and effect sizes locally."
   ]
  },
  {
   "cell_type": "code",
   "execution_count": null,
   "metadata": {},
   "outputs": [
    {
     "name": "stdout",
     "output_type": "stream",
     "text": [
      "      pheno   ringnr\n",
      "0  0.026008  8L19501\n",
      "1  0.435999  8L19502\n",
      "2  1.610507  8L19503\n",
      "3 -1.065995  8L19504\n",
      "4  1.214641  8L19505\n",
      "   effect           SNP\n",
      "0     0.0  SNPa276757_T\n",
      "1     0.0  SNPa283741_G\n",
      "2     0.0  SNPa462043_A\n",
      "3     0.0  SNPa462038_C\n",
      "4     0.0  SNPa462037_A\n"
     ]
    }
   ],
   "source": [
    "data_path = \"C:/Users/gard_/Documents/MasterThesis/Code/Data/Phenotypes/70k/\"\n",
    "# Create a DataFrame for the phenotype and save it\n",
    "y_df = pd.DataFrame({'Value': y})\n",
    "y_df['ringnr'] = SNP_matrix['ringnr']\n",
    "y_df.rename(columns={'Value': 'pheno'}, inplace=True)\n",
    "\n",
    "# Save SNP effects\n",
    "u_df = pd.DataFrame({'Value': u_sim})\n",
    "u_df['SNP'] = M_tilde.columns\n",
    "u_df.rename(columns={'Value': 'effect'}, inplace=True)\n",
    "\n",
    "\n",
    "# Save to a CSV file\n",
    "y_df.to_csv(data_path + \"Sim_pheno_70k_arch_\" + str(arch) + \".csv\", index=False)\n",
    "\n",
    "u_df.to_csv(data_path + \"Sim_effect_70k_arch_\" + str(arch) + \".csv\", index=False)\n",
    "\n",
    "\n",
    "# Display first few rows\n",
    "print(y_df.head())\n",
    "print(u_df.head())"
   ]
  },
  {
   "cell_type": "markdown",
   "metadata": {},
   "source": [
    "Generate phenotypes and effect sizes for all $10$ architecture types in a for-loop."
   ]
  },
  {
   "cell_type": "code",
   "execution_count": null,
   "metadata": {},
   "outputs": [
    {
     "name": "stdout",
     "output_type": "stream",
     "text": [
      "Heritability: 0.34\n",
      "      pheno   ringnr\n",
      "0  1.195317  8L19501\n",
      "1  0.088351  8L19502\n",
      "2  0.446012  8L19503\n",
      "3 -0.668625  8L19504\n",
      "4  0.040180  8L19505\n",
      "     effect           SNP\n",
      "0 -0.010230  SNPa276757_T\n",
      "1 -0.071578  SNPa283741_G\n",
      "2 -0.066896  SNPa462043_A\n",
      "3 -0.035539  SNPa462038_C\n",
      "4 -0.001448  SNPa462037_A\n",
      "Heritability: 0.32\n",
      "      pheno   ringnr\n",
      "0  0.141303  8L19501\n",
      "1 -0.954620  8L19502\n",
      "2 -0.214632  8L19503\n",
      "3 -0.421097  8L19504\n",
      "4 -1.073395  8L19505\n",
      "     effect           SNP\n",
      "0 -0.048126  SNPa276757_T\n",
      "1 -0.026093  SNPa283741_G\n",
      "2 -0.084545  SNPa462043_A\n",
      "3  0.097587  SNPa462038_C\n",
      "4 -0.032629  SNPa462037_A\n",
      "Heritability: 0.34\n",
      "      pheno   ringnr\n",
      "0 -0.789915  8L19501\n",
      "1 -0.315160  8L19502\n",
      "2  0.900878  8L19503\n",
      "3 -1.295542  8L19504\n",
      "4 -1.235822  8L19505\n",
      "     effect           SNP\n",
      "0  0.071783  SNPa276757_T\n",
      "1  0.000000  SNPa283741_G\n",
      "2 -0.006632  SNPa462043_A\n",
      "3  0.000000  SNPa462038_C\n",
      "4  0.000000  SNPa462037_A\n",
      "Heritability: 0.33\n",
      "      pheno   ringnr\n",
      "0 -1.808461  8L19501\n",
      "1 -0.591902  8L19502\n",
      "2 -0.735930  8L19503\n",
      "3  2.006328  8L19504\n",
      "4  0.422755  8L19505\n",
      "     effect           SNP\n",
      "0 -0.013525  SNPa276757_T\n",
      "1  0.029276  SNPa283741_G\n",
      "2 -0.024709  SNPa462043_A\n",
      "3  0.004347  SNPa462038_C\n",
      "4  0.037389  SNPa462037_A\n",
      "Heritability: 0.33\n",
      "      pheno   ringnr\n",
      "0 -0.489672  8L19501\n",
      "1 -0.165088  8L19502\n",
      "2 -0.792156  8L19503\n",
      "3 -0.172795  8L19504\n",
      "4  0.165843  8L19505\n",
      "     effect           SNP\n",
      "0 -0.010880  SNPa276757_T\n",
      "1  0.000000  SNPa283741_G\n",
      "2  0.000000  SNPa462043_A\n",
      "3  0.000000  SNPa462038_C\n",
      "4 -0.084708  SNPa462037_A\n",
      "Heritability: 0.34\n",
      "      pheno   ringnr\n",
      "0  0.072481  8L19501\n",
      "1  0.782083  8L19502\n",
      "2 -0.754356  8L19503\n",
      "3  0.029333  8L19504\n",
      "4  1.246582  8L19505\n",
      "   effect           SNP\n",
      "0     0.0  SNPa276757_T\n",
      "1     0.0  SNPa283741_G\n",
      "2     0.0  SNPa462043_A\n",
      "3     0.0  SNPa462038_C\n",
      "4     0.0  SNPa462037_A\n",
      "Heritability: 0.32\n",
      "      pheno   ringnr\n",
      "0 -2.329858  8L19501\n",
      "1 -0.907894  8L19502\n",
      "2 -0.736540  8L19503\n",
      "3 -0.030618  8L19504\n",
      "4 -0.714288  8L19505\n",
      "     effect           SNP\n",
      "0  0.000000  SNPa276757_T\n",
      "1  0.000000  SNPa283741_G\n",
      "2  0.000000  SNPa462043_A\n",
      "3  0.000000  SNPa462038_C\n",
      "4  0.065267  SNPa462037_A\n",
      "Heritability: 0.33\n",
      "      pheno   ringnr\n",
      "0  1.251475  8L19501\n",
      "1 -0.296009  8L19502\n",
      "2  1.281448  8L19503\n",
      "3 -0.063005  8L19504\n",
      "4  0.128130  8L19505\n",
      "   effect           SNP\n",
      "0  -0.071  SNPa276757_T\n",
      "1   0.000  SNPa283741_G\n",
      "2   0.000  SNPa462043_A\n",
      "3   0.000  SNPa462038_C\n",
      "4   0.000  SNPa462037_A\n",
      "Heritability: 0.34\n",
      "      pheno   ringnr\n",
      "0  1.130211  8L19501\n",
      "1  0.208607  8L19502\n",
      "2  0.969928  8L19503\n",
      "3  0.275018  8L19504\n",
      "4  0.026922  8L19505\n",
      "   effect           SNP\n",
      "0     0.0  SNPa276757_T\n",
      "1     0.0  SNPa283741_G\n",
      "2     0.0  SNPa462043_A\n",
      "3     0.0  SNPa462038_C\n",
      "4     0.0  SNPa462037_A\n",
      "Heritability: 0.33\n",
      "      pheno   ringnr\n",
      "0 -0.232164  8L19501\n",
      "1  1.514431  8L19502\n",
      "2 -0.540016  8L19503\n",
      "3  0.977950  8L19504\n",
      "4  0.518202  8L19505\n",
      "   effect           SNP\n",
      "0     0.0  SNPa276757_T\n",
      "1     0.0  SNPa283741_G\n",
      "2     0.0  SNPa462043_A\n",
      "3     0.0  SNPa462038_C\n",
      "4     0.0  SNPa462037_A\n"
     ]
    },
    {
     "ename": "",
     "evalue": "",
     "output_type": "error",
     "traceback": [
      "\u001b[1;31mThe Kernel crashed while executing code in the current cell or a previous cell. \n",
      "\u001b[1;31mPlease review the code in the cell(s) to identify a possible cause of the failure. \n",
      "\u001b[1;31mClick <a href='https://aka.ms/vscodeJupyterKernelCrash'>here</a> for more info. \n",
      "\u001b[1;31mView Jupyter <a href='command:jupyter.viewOutput'>log</a> for further details."
     ]
    }
   ],
   "source": [
    "# Get the number of columns (p)\n",
    "p = M_tilde.shape[1]\n",
    "\n",
    "for i in range(10):\n",
    "    arch = i + 1\n",
    "    # Generate u values\n",
    "    u_sim = get_u(p = p, arch = arch-1)\n",
    "\n",
    "    # Compute a as matrix multiplication\n",
    "    a = np.dot(M_tilde.values, u_sim)\n",
    "\n",
    "    # Scale a to achieve heritability of 0.33\n",
    "    a = a * np.sqrt(0.33 / np.var(a))\n",
    "\n",
    "    # Generate epsilon (error term) with variance 0.67\n",
    "    epsilon = np.random.normal(0, np.sqrt(0.67), size=a.shape)\n",
    "\n",
    "    # Simulated phenotype y\n",
    "    y = a + epsilon\n",
    "\n",
    "    # Heritability check (approximately 0.33)\n",
    "    heritability = np.var(a) / np.var(y)\n",
    "    print(f\"Heritability: {heritability:.2f}\")\n",
    "\n",
    "    data_path = \"C:/Users/gard_/Documents/MasterThesis/Code/Data/Phenotypes/70k/\"\n",
    "    # Create a DataFrame for the phenotype and save it\n",
    "    y_df = pd.DataFrame({'Value': y})\n",
    "    y_df['ringnr'] = SNP_matrix['ringnr']\n",
    "    y_df.rename(columns={'Value': 'pheno'}, inplace=True)\n",
    "\n",
    "    # Save SNP effects\n",
    "    u_df = pd.DataFrame({'Value': u_sim})\n",
    "    u_df['SNP'] = M_tilde.columns\n",
    "    u_df.rename(columns={'Value': 'effect'}, inplace=True)\n",
    "\n",
    "\n",
    "    # Save to a CSV file\n",
    "    y_df.to_csv(data_path + \"Sim_pheno_70k_arch_\" + str(arch) + \".csv\", index=False)\n",
    "\n",
    "    u_df.to_csv(data_path + \"Sim_effect_70k_arch_\" + str(arch) + \".csv\", index=False)\n",
    "\n",
    "\n",
    "    # Display first few rows\n",
    "    print(y_df.head())\n",
    "    print(u_df.head())"
   ]
  }
 ],
 "metadata": {
  "kernelspec": {
   "display_name": "base",
   "language": "python",
   "name": "python3"
  },
  "language_info": {
   "codemirror_mode": {
    "name": "ipython",
    "version": 3
   },
   "file_extension": ".py",
   "mimetype": "text/x-python",
   "name": "python",
   "nbconvert_exporter": "python",
   "pygments_lexer": "ipython3",
   "version": "3.12.4"
  }
 },
 "nbformat": 4,
 "nbformat_minor": 2
}
