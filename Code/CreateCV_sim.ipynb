{
 "cells": [
  {
   "cell_type": "markdown",
   "metadata": {},
   "source": [
    "# Create CV folds simulated data\n",
    "\n",
    "In this file we will manipulate data into train-, validation- and testsets that is compatible with all models used in the master thesis, regardless of whether it was written in Python or R.\n",
    "\n",
    "This file will be used for all $10$ simulation-architectures (Chiara) as defined in handwritten notes.\n",
    "\n",
    "The data will be partitioned in training/validation/test sets in proportion 90/10 in each case.\n",
    "\n",
    "The script is generalized such that you can create CV folds from simulations on 180k or 70k dataset."
   ]
  },
  {
   "cell_type": "markdown",
   "metadata": {},
   "source": [
    "Import libraries used in file"
   ]
  },
  {
   "cell_type": "code",
   "execution_count": 1,
   "metadata": {},
   "outputs": [],
   "source": [
    "import pandas as pd\n",
    "import numpy as np\n",
    "from sklearn.model_selection import KFold"
   ]
  },
  {
   "cell_type": "markdown",
   "metadata": {},
   "source": [
    "Run the script for all $10$ architectures in a for-loop."
   ]
  },
  {
   "cell_type": "code",
   "execution_count": 2,
   "metadata": {},
   "outputs": [
    {
     "name": "stdout",
     "output_type": "stream",
     "text": [
      "Check the dim of ringnrs: \n",
      " (3032,) \n",
      "\n",
      "Any duplicated ringnrs?\n",
      "False\n",
      "Check the dim of ringnrs: \n",
      " (3032,) \n",
      "\n",
      "Any duplicated ringnrs?\n",
      "False\n",
      "Check the dim of ringnrs: \n",
      " (3032,) \n",
      "\n",
      "Any duplicated ringnrs?\n",
      "False\n",
      "Check the dim of ringnrs: \n",
      " (3032,) \n",
      "\n",
      "Any duplicated ringnrs?\n",
      "False\n",
      "Check the dim of ringnrs: \n",
      " (3032,) \n",
      "\n",
      "Any duplicated ringnrs?\n",
      "False\n",
      "Check the dim of ringnrs: \n",
      " (3032,) \n",
      "\n",
      "Any duplicated ringnrs?\n",
      "False\n",
      "Check the dim of ringnrs: \n",
      " (3032,) \n",
      "\n",
      "Any duplicated ringnrs?\n",
      "False\n",
      "Check the dim of ringnrs: \n",
      " (3032,) \n",
      "\n",
      "Any duplicated ringnrs?\n",
      "False\n",
      "Check the dim of ringnrs: \n",
      " (3032,) \n",
      "\n",
      "Any duplicated ringnrs?\n",
      "False\n",
      "Check the dim of ringnrs: \n",
      " (3032,) \n",
      "\n",
      "Any duplicated ringnrs?\n",
      "False\n"
     ]
    }
   ],
   "source": [
    "# Set dataset 180k or 70k\n",
    "dset = \"180k\"\n",
    "for j in range(10):\n",
    "    # Architecture\n",
    "    arch = j + 1\n",
    "    # Simulated:\n",
    "    data = pd.read_csv(\"c:/Users/gard_/Documents/MasterThesis/Code/Data/Phenotypes/\" + dset + \"/Sim_pheno_\" + dset + \"_arch_\" + str(arch) + \".csv\")\n",
    "\n",
    "    ringnrs = data[\"ringnr\"]\n",
    "    print(\"Check the dim of ringnrs: \\n\",ringnrs.shape, \"\\n\")\n",
    "\n",
    "    # Are there any duplicated ringnrs?\n",
    "    print(\"Any duplicated ringnrs?\")\n",
    "    print(ringnrs.duplicated().any())\n",
    "\n",
    "    # Initialize KFold with the desired number of splits (10 folds)\n",
    "    kf = KFold(n_splits = 10, shuffle = True, random_state = 42)\n",
    "\n",
    "    # Create an empty list to hold the different folds with actual data values\n",
    "    folds = []\n",
    "\n",
    "    # Loop through the kf.split method which yields train and test indices\n",
    "    for fold_index, (train_indices, test_indices) in enumerate(kf.split(ringnrs)):\n",
    "        #print(f\"Fold {fold_index+1}:\")\n",
    "        \n",
    "        # Store the actual training and validation data values in each fold\n",
    "        train_data = ringnrs.iloc[train_indices]\n",
    "        test_data = ringnrs.iloc[test_indices]\n",
    "        \n",
    "        # Append the fold containing training and testing data\n",
    "        folds.append({\n",
    "            'train': train_data,\n",
    "            'test': test_data\n",
    "        })\n",
    "\n",
    "    # Convert the list of folds into a numpy array for convenience\n",
    "    folds_array = np.array(folds, dtype=object)\n",
    "\n",
    "\n",
    "    # Prepare the data to be saved in a structured format (list of dictionaries)\n",
    "    csv_data = []\n",
    "    for i, fold in enumerate(folds_array):\n",
    "        for ringnr in fold['train']:\n",
    "            csv_data.append({'Fold': i + 1, 'Set': 'train', 'ringnr': ringnr})\n",
    "        for ringnr in fold['test']:\n",
    "            csv_data.append({'Fold': i + 1, 'Set': 'test', 'ringnr': ringnr})\n",
    "\n",
    "    # Convert to DataFrame and save as CSV\n",
    "    df = pd.DataFrame(csv_data)\n",
    "    # df.to_csv('cv_folds.csv', index=False)\n",
    "    #print(df)\n",
    "\n",
    "    # Data path to CV-folder\n",
    "    CV_path = \"C:/Users/gard_/Documents/MasterThesis/Code/Data/CVfolds/Sim_\" + dset + \"/\"\n",
    "    # Save CSV-file\n",
    "    df.to_csv(CV_path + 'cv_folds_sim_' + dset + '_arch_' + str(arch) +  '.csv', index=False)"
   ]
  }
 ],
 "metadata": {
  "kernelspec": {
   "display_name": "base",
   "language": "python",
   "name": "python3"
  },
  "language_info": {
   "codemirror_mode": {
    "name": "ipython",
    "version": 3
   },
   "file_extension": ".py",
   "mimetype": "text/x-python",
   "name": "python",
   "nbconvert_exporter": "python",
   "pygments_lexer": "ipython3",
   "version": "3.12.4"
  }
 },
 "nbformat": 4,
 "nbformat_minor": 2
}
